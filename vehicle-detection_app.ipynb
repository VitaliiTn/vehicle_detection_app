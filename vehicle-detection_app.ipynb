{
 "cells": [
  {
   "cell_type": "markdown",
   "id": "scheduled-planet",
   "metadata": {
    "papermill": {
     "duration": 0.05452,
     "end_time": "2021-07-07T19:27:01.339401",
     "exception": false,
     "start_time": "2021-07-07T19:27:01.284881",
     "status": "completed"
    },
    "tags": []
   },
   "source": [
    "## Detection of images containing vehicles or not using Convolutional Neural Networks\n",
    "\n",
    "\n",
    "#### Dataset information:\n",
    "\n",
    "- The data was collected to train a model to distinguish between images containing vehicles and images without vehicles, so the whole problem is binary classification.\n",
    "\n",
    "\n",
    "The data is divided into 2 folders:\n",
    "- The folder `` non-vehicles`` contains 8968 images and the folder `` vehicles`` contains 8792 images for training and testing the model.\n",
    "\n",
    "The dataset can be found on the `` Kaggle`` platform at the link below:\n",
    "\n",
    "- https://www.kaggle.com/brsdincer/vehicle-detection-image-set"
   ]
  },
  {
   "cell_type": "markdown",
   "id": "emerging-vulnerability",
   "metadata": {
    "papermill": {
     "duration": 0.049782,
     "end_time": "2021-07-07T19:27:01.439889",
     "exception": false,
     "start_time": "2021-07-07T19:27:01.390107",
     "status": "completed"
    },
    "tags": []
   },
   "source": [
    "## 1. Imports from libraries"
   ]
  },
  {
   "cell_type": "code",
   "execution_count": 30,
   "id": "satisfactory-colombia",
   "metadata": {
    "execution": {
     "iopub.execute_input": "2021-07-07T19:27:01.557459Z",
     "iopub.status.busy": "2021-07-07T19:27:01.556654Z",
     "iopub.status.idle": "2021-07-07T19:27:08.753503Z",
     "shell.execute_reply": "2021-07-07T19:27:08.752809Z"
    },
    "papermill": {
     "duration": 7.264064,
     "end_time": "2021-07-07T19:27:08.753668",
     "exception": false,
     "start_time": "2021-07-07T19:27:01.489604",
     "status": "completed"
    },
    "tags": []
   },
   "outputs": [],
   "source": [
    "import numpy as np\n",
    "import cv2\n",
    "import keras"
   ]
  },
  {
   "cell_type": "code",
   "execution_count": 31,
   "id": "600becbc",
   "metadata": {},
   "outputs": [],
   "source": [
    "\n",
    "\n",
    "CNN_mobilenet_loaded = keras.models.load_model('CNN_mobilenet_save.pkl')"
   ]
  },
  {
   "cell_type": "code",
   "execution_count": 32,
   "id": "ba302fff",
   "metadata": {},
   "outputs": [
    {
     "name": "stdout",
     "output_type": "stream",
     "text": [
      "[[0.999995]]\n",
      "This is vehicle =  1.0  with a probability of  0.999995\n"
     ]
    }
   ],
   "source": [
    "f_path = '1.png'\n",
    "img=cv2.imread(f_path)                          # read in the image - note cv2 reads in images in BGR format\n",
    "img=cv2.cvtColor(img, cv2.COLOR_BGR2RGB)        # model was trained on RGB images so convert to RGB\n",
    "img=cv2.resize(img, (75,75))                    # model was trained on images of size 64  X 64 X 3 so resize the images\n",
    "img=img/255                                     # model was trained with pixel value scalled between -1 to +1 so convert the pixel range    \n",
    "img=np.expand_dims(img, axis=0)                 # model predict expects the input to have dimension (batch_size, width, height, bands)\n",
    "\n",
    "prediction = CNN_mobilenet_loaded.predict(img, batch_size=1, verbose=0) # make predictions    \n",
    "print (prediction)\n",
    "\n",
    "pred=np.round(prediction)                       # find the index of the column with the highest probability\n",
    "print ('This is vehicle = ', pred[0][0], ' with a probability of ', prediction[0][0] )"
   ]
  }
 ],
 "metadata": {
  "interpreter": {
   "hash": "ad2bdc8ecc057115af97d19610ffacc2b4e99fae6737bb82f5d7fb13d2f2c186"
  },
  "kernelspec": {
   "display_name": "Python 3.7.10 ('base')",
   "language": "python",
   "name": "python3"
  },
  "language_info": {
   "codemirror_mode": {
    "name": "ipython",
    "version": 3
   },
   "file_extension": ".py",
   "mimetype": "text/x-python",
   "name": "python",
   "nbconvert_exporter": "python",
   "pygments_lexer": "ipython3",
   "version": "3.7.10"
  },
  "papermill": {
   "default_parameters": {},
   "duration": 3679.322136,
   "end_time": "2021-07-07T20:28:12.140203",
   "environment_variables": {},
   "exception": null,
   "input_path": "__notebook__.ipynb",
   "output_path": "__notebook__.ipynb",
   "parameters": {},
   "start_time": "2021-07-07T19:26:52.818067",
   "version": "2.3.3"
  }
 },
 "nbformat": 4,
 "nbformat_minor": 5
}
